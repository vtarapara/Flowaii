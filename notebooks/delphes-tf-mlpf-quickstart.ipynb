{
 "cells": [
  {
   "cell_type": "markdown",
   "id": "damaged-gentleman",
   "metadata": {},
   "source": [
    "This quickstart notebook allows to test and mess around with the MLPF GNN model in a standalone way. For actual training, we don't use a notebook, please refer to `README.md`.\n",
    "\n",
    "\n",
    "```bash\n",
    "git clone https://github.com/jpata/particleflow/\n",
    "```\n",
    "\n",
    "Run the notebook from `notebooks/delphes-tf-mlpf-quickstart.ipynb`."
   ]
  },
  {
   "cell_type": "code",
   "execution_count": 1,
   "id": "happy-presence",
   "metadata": {},
   "outputs": [],
   "source": [
    "import bz2, pickle\n",
    "import numpy as np\n",
    "import tensorflow as tf\n",
    "import sklearn\n",
    "import sklearn.metrics\n",
    "import matplotlib.pyplot as plt"
   ]
  },
  {
   "cell_type": "code",
   "execution_count": 2,
   "id": "gentle-prompt",
   "metadata": {},
   "outputs": [],
   "source": [
    "import sys\n",
    "sys.path += [\"../mlpf\"]"
   ]
  },
  {
   "cell_type": "code",
   "execution_count": 3,
   "id": "imported-nightlife",
   "metadata": {},
   "outputs": [],
   "source": [
    "import tfmodel"
   ]
  },
  {
   "cell_type": "code",
   "execution_count": 4,
   "id": "attached-helen",
   "metadata": {},
   "outputs": [
    {
     "name": "stderr",
     "output_type": "stream",
     "text": [
      "'wget' is not recognized as an internal or external command,\n",
      "operable program or batch file.\n"
     ]
    }
   ],
   "source": [
    "!wget --no-check-certiow to ficate -nc https://zenodo.org/record/4452283/files/tev14_pythia8_ttbar_0_0.pkl.bz2"
   ]
  },
  {
   "cell_type": "code",
   "execution_count": 4,
   "id": "enormous-merchant",
   "metadata": {},
   "outputs": [],
   "source": [
    "data = pickle.load(bz2.BZ2File(\"tev14_pythia8_ttbar_0_0.pkl.bz2\", \"r\"))"
   ]
  },
  {
   "cell_type": "code",
   "execution_count": 5,
   "id": "cloudy-warren",
   "metadata": {},
   "outputs": [
    {
     "data": {
      "text/plain": [
       "(100, 100)"
      ]
     },
     "execution_count": 5,
     "metadata": {},
     "output_type": "execute_result"
    }
   ],
   "source": [
    "#100 events in one file\n",
    "len(data[\"X\"]), len(data[\"ygen\"])"
   ]
  },
  {
   "cell_type": "code",
   "execution_count": 6,
   "id": "blessed-noise",
   "metadata": {},
   "outputs": [],
   "source": [
    "#Pad the number of elements to a size that's divisible by the bin size\n",
    "Xs = []\n",
    "ys = []\n",
    "\n",
    "max_size = 50*128\n",
    "for i in range(len(data[\"X\"])):\n",
    "    X = data[\"X\"][i][:max_size, :]\n",
    "    y = data[\"ygen\"][i][:max_size, :]\n",
    "    Xpad = np.pad(X, [(0, max_size - X.shape[0]), (0, 0)])\n",
    "    ypad = np.pad(y, [(0, max_size - y.shape[0]), (0, 0)])\n",
    "    Xpad = Xpad.astype(np.float32)\n",
    "    ypad = ypad.astype(np.float32)\n",
    "    Xs.append(Xpad)\n",
    "    ys.append(ypad)\n",
    "    \n",
    "X = np.stack(Xs)\n",
    "y = np.stack(ys)"
   ]
  },
  {
   "cell_type": "code",
   "execution_count": 7,
   "id": "upset-tractor",
   "metadata": {},
   "outputs": [],
   "source": [
    "#Get the first event\n",
    "input_classes = np.unique(X[:, :, 0].flatten())\n",
    "output_classes = np.unique(y[:, :, 0].flatten())\n",
    "num_output_classes = len(output_classes)"
   ]
  },
  {
   "cell_type": "code",
   "execution_count": 9,
   "id": "hundred-cosmetic",
   "metadata": {},
   "outputs": [
    {
     "data": {
      "text/plain": [
       "array([0., 1., 2.], dtype=float32)"
      ]
     },
     "execution_count": 9,
     "metadata": {},
     "output_type": "execute_result"
    }
   ],
   "source": [
    "input_classes"
   ]
  },
  {
   "cell_type": "code",
   "execution_count": 10,
   "id": "champion-institute",
   "metadata": {},
   "outputs": [
    {
     "data": {
      "text/plain": [
       "array([0., 1., 2., 3., 4., 5.], dtype=float32)"
      ]
     },
     "execution_count": 10,
     "metadata": {},
     "output_type": "execute_result"
    }
   ],
   "source": [
    "output_classes"
   ]
  },
  {
   "cell_type": "code",
   "execution_count": 8,
   "id": "previous-stranger",
   "metadata": {},
   "outputs": [],
   "source": [
    "def transform_target(y):\n",
    "    return {\n",
    "        \"cls\": tf.one_hot(tf.cast(y[:, :, 0], tf.int32), num_output_classes),\n",
    "        \"charge\": y[:, :, 1:2],\n",
    "        \"pt\": y[:, :, 2:3],\n",
    "        \"eta\": y[:, :, 3:4],\n",
    "        \"sin_phi\": y[:, :, 4:5],\n",
    "        \"cos_phi\": y[:, :, 5:6],\n",
    "        \"energy\": y[:, :, 6:7],\n",
    "    }\n",
    "yt = transform_target(y)"
   ]
  },
  {
   "cell_type": "code",
   "execution_count": 9,
   "id": "nasty-staff",
   "metadata": {},
   "outputs": [],
   "source": [
    "from tfmodel.model import PFNetDense"
   ]
  },
  {
   "cell_type": "code",
   "execution_count": 10,
   "id": "optical-trinity",
   "metadata": {},
   "outputs": [],
   "source": [
    "msk_true_particle = y[:, :, 0]!=0"
   ]
  },
  {
   "cell_type": "code",
   "execution_count": 11,
   "id": "pleasant-textbook",
   "metadata": {},
   "outputs": [
    {
     "data": {
      "text/plain": [
       "(array([1., 2., 3., 4., 5.], dtype=float32),\n",
       " array([263996,  93508, 133732,    912,    278], dtype=int64))"
      ]
     },
     "execution_count": 11,
     "metadata": {},
     "output_type": "execute_result"
    }
   ],
   "source": [
    "np.unique(y[msk_true_particle][:, 0], return_counts=True)"
   ]
  },
  {
   "cell_type": "code",
   "execution_count": 15,
   "id": "acute-southwest",
   "metadata": {},
   "outputs": [
    {
     "data": {
      "image/png": "[encoded data removed]",
      "text/plain": [
       "<Figure size 432x288 with 1 Axes>"
      ]
     },
     "metadata": {
      "needs_background": "light"
     },
     "output_type": "display_data"
    }
   ],
   "source": [
    "plt.hist(yt[\"pt\"][msk_true_particle].flatten(), bins=100);\n",
    "plt.xlabel(\"pt\")\n",
    "plt.yscale(\"log\")"
   ]
  },
  {
   "cell_type": "code",
   "execution_count": 16,
   "id": "elementary-hepatitis",
   "metadata": {},
   "outputs": [
    {
     "data": {
      "text/plain": [
       "Text(0.5, 0, 'eta')"
      ]
     },
     "execution_count": 16,
     "metadata": {},
     "output_type": "execute_result"
    },
    {
     "data": {
      "image/png": "[encoded data removed]",
      "text/plain": [
       "<Figure size 432x288 with 1 Axes>"
      ]
     },
     "metadata": {
      "needs_background": "light"
     },
     "output_type": "display_data"
    }
   ],
   "source": [
    "plt.hist(yt[\"eta\"][msk_true_particle].flatten(), bins=100);\n",
    "plt.xlabel(\"eta\")"
   ]
  },
  {
   "cell_type": "code",
   "execution_count": 17,
   "id": "white-enhancement",
   "metadata": {},
   "outputs": [
    {
     "data": {
      "text/plain": [
       "Text(0.5, 0, 'sin phi')"
      ]
     },
     "execution_count": 17,
     "metadata": {},
     "output_type": "execute_result"
    },
    {
     "data": {
      "image/png": "[encoded data removed]",
      "text/plain": [
       "<Figure size 432x288 with 1 Axes>"
      ]
     },
     "metadata": {
      "needs_background": "light"
     },
     "output_type": "display_data"
    }
   ],
   "source": [
    "plt.hist(yt[\"sin_phi\"][msk_true_particle].flatten(), bins=100);\n",
    "plt.xlabel(\"sin phi\")"
   ]
  },
  {
   "cell_type": "code",
   "execution_count": 18,
   "id": "appointed-alberta",
   "metadata": {},
   "outputs": [
    {
     "data": {
      "text/plain": [
       "Text(0.5, 0, 'cos phi')"
      ]
     },
     "execution_count": 18,
     "metadata": {},
     "output_type": "execute_result"
    },
    {
     "data": {
      "image/png": "[encoded data removed]",
      "text/plain": [
       "<Figure size 432x288 with 1 Axes>"
      ]
     },
     "metadata": {
      "needs_background": "light"
     },
     "output_type": "display_data"
    }
   ],
   "source": [
    "plt.hist(yt[\"cos_phi\"][msk_true_particle].flatten(), bins=100);\n",
    "plt.xlabel(\"cos phi\")"
   ]
  },
  {
   "cell_type": "code",
   "execution_count": 19,
   "id": "variable-appointment",
   "metadata": {},
   "outputs": [
    {
     "data": {
      "image/png": "[encoded data removed]",
      "text/plain": [
       "<Figure size 432x288 with 1 Axes>"
      ]
     },
     "metadata": {
      "needs_background": "light"
     },
     "output_type": "display_data"
    }
   ],
   "source": [
    "plt.hist(yt[\"energy\"][msk_true_particle].flatten(), bins=100);\n",
    "plt.xlabel(\"energy\")\n",
    "plt.yscale(\"log\")"
   ]
  },
  {
   "cell_type": "code",
   "execution_count": 12,
   "id": "steady-stock",
   "metadata": {},
   "outputs": [],
   "source": [
    "combined_graph_layer = {\n",
    "    \"max_num_bins\": 100,\n",
    "    \"bin_size\": 128,\n",
    "    \"distance_dim\": 128,\n",
    "    \"layernorm\": \"no\",\n",
    "    \"num_node_messages\": 1,\n",
    "    \"dropout\": 0.0,\n",
    "    \"kernel\": {\n",
    "        \"type\": \"NodePairGaussianKernel\",\n",
    "        \"dist_mult\": 0.1,\n",
    "        \"clip_value_low\": 0.0\n",
    "    },\n",
    "    \"node_message\": {\n",
    "        \"type\": \"GHConvDense\",\n",
    "        \"output_dim\": 128,\n",
    "        \"activation\": \"gelu\",\n",
    "        \"normalize_degrees\": \"yes\"\n",
    "    },\n",
    "    \"ffn_dist_hidden_dim\": 128,\n",
    "    \"do_lsh\": \"no\",\n",
    "    \"ffn_dist_num_layers\": 0,\n",
    "    \"activation\": \"gelu\",\n",
    "    \"dist_activation\": \"gelu\"\n",
    "}\n",
    "\n",
    "model = PFNetDense(\n",
    "    num_input_classes=len(input_classes),\n",
    "    num_output_classes=len(output_classes),\n",
    "    activation=\"elu\",\n",
    "    hidden_dim=128,\n",
    "    bin_size=128,\n",
    "    input_encoding=\"default\",\n",
    "    multi_output=True,\n",
    "    combined_graph_layer=combined_graph_layer\n",
    ")\n",
    "\n",
    "# #temporal weight mode means each input element in the event can get a separate weight\n",
    "model.compile(\n",
    "    loss={\n",
    "        \"cls\": tf.keras.losses.CategoricalCrossentropy(from_logits=False),\n",
    "        \"charge\": tf.keras.losses.MeanSquaredError(),\n",
    "        \"pt\": tf.keras.losses.MeanSquaredError(),\n",
    "        \"energy\": tf.keras.losses.MeanSquaredError(),\n",
    "        \"eta\": tf.keras.losses.MeanSquaredError(),\n",
    "        \"sin_phi\": tf.keras.losses.MeanSquaredError(),\n",
    "        \"cos_phi\": tf.keras.losses.MeanSquaredError()\n",
    "    },\n",
    "    optimizer=\"adam\",\n",
    "    sample_weight_mode=\"temporal\"\n",
    ")"
   ]
  },
  {
   "cell_type": "code",
   "execution_count": 13,
   "id": "explicit-friendship",
   "metadata": {},
   "outputs": [
    {
     "data": {
      "text/plain": [
       "{'cls': <tf.Tensor: shape=(1, 6400, 6), dtype=float32, numpy=\n",
       " array([[[0.17106216, 0.14155263, 0.19250868, 0.12913269, 0.15536611,\n",
       "          0.21037768],\n",
       "         [0.22898543, 0.12132419, 0.22450177, 0.10256851, 0.13661706,\n",
       "          0.18600307],\n",
       "         [0.17341125, 0.11167195, 0.16399767, 0.18435681, 0.16607065,\n",
       "          0.20049168],\n",
       "         ...,\n",
       "         [0.16666667, 0.16666667, 0.16666667, 0.16666667, 0.16666667,\n",
       "          0.16666667],\n",
       "         [0.16666667, 0.16666667, 0.16666667, 0.16666667, 0.16666667,\n",
       "          0.16666667],\n",
       "         [0.16666667, 0.16666667, 0.16666667, 0.16666667, 0.16666667,\n",
       "          0.16666667]]], dtype=float32)>,\n",
       " 'charge': <tf.Tensor: shape=(1, 6400, 1), dtype=float32, numpy=\n",
       " array([[[-0.16160755],\n",
       "         [-0.        ],\n",
       "         [ 0.05912228],\n",
       "         ...,\n",
       "         [ 0.        ],\n",
       "         [ 0.        ],\n",
       "         [ 0.        ]]], dtype=float32)>,\n",
       " 'pt': <tf.Tensor: shape=(1, 6400, 1), dtype=float32, numpy=\n",
       " array([[[-0.11462843],\n",
       "         [-0.        ],\n",
       "         [-0.03829586],\n",
       "         ...,\n",
       "         [ 0.        ],\n",
       "         [ 0.        ],\n",
       "         [ 0.        ]]], dtype=float32)>,\n",
       " 'eta': <tf.Tensor: shape=(1, 6400, 1), dtype=float32, numpy=\n",
       " array([[[0.4866503],\n",
       "         [0.       ],\n",
       "         [1.3777014],\n",
       "         ...,\n",
       "         [0.       ],\n",
       "         [0.       ],\n",
       "         [0.       ]]], dtype=float32)>,\n",
       " 'sin_phi': <tf.Tensor: shape=(1, 6400, 1), dtype=float32, numpy=\n",
       " array([[[0.17768411],\n",
       "         [0.        ],\n",
       "         [0.7847615 ],\n",
       "         ...,\n",
       "         [0.        ],\n",
       "         [0.        ],\n",
       "         [0.        ]]], dtype=float32)>,\n",
       " 'cos_phi': <tf.Tensor: shape=(1, 6400, 1), dtype=float32, numpy=\n",
       " array([[[0.587371 ],\n",
       "         [0.       ],\n",
       "         [0.9050807],\n",
       "         ...,\n",
       "         [0.       ],\n",
       "         [0.       ],\n",
       "         [0.       ]]], dtype=float32)>,\n",
       " 'energy': <tf.Tensor: shape=(1, 6400, 1), dtype=float32, numpy=\n",
       " array([[[-0.10229696],\n",
       "         [-0.        ],\n",
       "         [-0.10582598],\n",
       "         ...,\n",
       "         [ 0.        ],\n",
       "         [ 0.        ],\n",
       "         [ 0.        ]]], dtype=float32)>,\n",
       " 'sum_energy': <tf.Tensor: shape=(1, 1), dtype=float32, numpy=array([[-652.0034]], dtype=float32)>,\n",
       " 'sum_pt': <tf.Tensor: shape=(1, 1), dtype=float32, numpy=array([[-489.5471]], dtype=float32)>}"
      ]
     },
     "execution_count": 13,
     "metadata": {},
     "output_type": "execute_result"
    }
   ],
   "source": [
    "model(X[:1])"
   ]
  },
  {
   "cell_type": "code",
   "execution_count": 14,
   "id": "interim-consciousness",
   "metadata": {},
   "outputs": [
    {
     "name": "stdout",
     "output_type": "stream",
     "text": [
      "Epoch 1/2\n",
      "20/20 [==============================] - 24s 978ms/step - loss: 3733.5200 - charge_loss: 0.6568 - cls_loss: 1.2041 - cos_phi_loss: 1.5174 - energy_loss: 3633.8413 - eta_loss: 2.9660 - pt_loss: 91.6467 - sin_phi_loss: 1.6880\n",
      "Epoch 2/2\n",
      "20/20 [==============================] - 28s 1s/step - loss: 1302.7191 - charge_loss: 0.1196 - cls_loss: 0.6071 - cos_phi_loss: 0.4677 - energy_loss: 456.4707 - eta_loss: 0.5675 - pt_loss: 844.1024 - sin_phi_loss: 0.3841\n"
     ]
    },
    {
     "data": {
      "text/plain": [
       "<keras.callbacks.History at 0x2158ab21d90>"
      ]
     },
     "execution_count": 14,
     "metadata": {},
     "output_type": "execute_result"
    }
   ],
   "source": [
    "model.fit(X, yt, epochs=2, batch_size=5)"
   ]
  },
  {
   "cell_type": "code",
   "execution_count": 15,
   "id": "healthy-constraint",
   "metadata": {},
   "outputs": [],
   "source": [
    "ypred = model.predict(X, batch_size=5)"
   ]
  },
  {
   "cell_type": "code",
   "execution_count": 16,
   "id": "annoying-fleet",
   "metadata": {},
   "outputs": [],
   "source": [
    "#index of the class prediction output values\n",
    "pred_id_offset = len(output_classes)\n",
    "ypred_ids_raw = ypred[\"cls\"]"
   ]
  },
  {
   "cell_type": "code",
   "execution_count": 17,
   "id": "filled-suspension",
   "metadata": {},
   "outputs": [
    {
     "data": {
      "text/plain": [
       "array([[130135,      0,      0,      0,      0,      0],\n",
       "       [  6464, 254736,   1445,      0,    663,    278],\n",
       "       [  6770,   9260,  86281,     13,      2,      0],\n",
       "       [  4205,      0,   5782, 133719,    247,      0],\n",
       "       [     0,      0,      0,      0,      0,      0],\n",
       "       [     0,      0,      0,      0,      0,      0]], dtype=int64)"
      ]
     },
     "execution_count": 17,
     "metadata": {},
     "output_type": "execute_result"
    }
   ],
   "source": [
    "sklearn.metrics.confusion_matrix(\n",
    "    np.argmax(ypred_ids_raw, axis=-1).flatten(),\n",
    "    np.argmax(yt[\"cls\"], axis=-1).flatten(), labels=output_classes\n",
    ")"
   ]
  },
  {
   "cell_type": "code",
   "execution_count": 18,
   "id": "valued-better",
   "metadata": {},
   "outputs": [
    {
     "data": {
      "text/plain": [
       "<matplotlib.collections.PathCollection at 0x21594a75a90>"
      ]
     },
     "execution_count": 18,
     "metadata": {},
     "output_type": "execute_result"
    },
    {
     "data": {
      "image/png": "[encoded data removed]",
      "text/plain": [
       "<Figure size 432x288 with 1 Axes>"
      ]
     },
     "metadata": {
      "needs_background": "light"
     },
     "output_type": "display_data"
    }
   ],
   "source": [
    "msk_particles = (X[:, :, 0]!=0)\n",
    "plt.scatter(\n",
    "    ypred[\"eta\"][msk_particles].flatten(),\n",
    "    yt[\"eta\"][msk_particles].flatten(), marker=\".\")"
   ]
  },
  {
   "cell_type": "code",
   "execution_count": null,
   "id": "spiritual-fancy",
   "metadata": {},
   "outputs": [],
   "source": []
  }
 ],
 "metadata": {
  "interpreter": {
   "hash": "5d36ad4d7e8fb7ed99f68b31939a2457ffbcaee146b24df727a10eb189884be5"
  },
  "kernelspec": {
   "display_name": "Python 3.9.6 64-bit",
   "language": "python",
   "name": "python3"
  },
  "language_info": {
   "codemirror_mode": {
    "name": "ipython",
    "version": 3
   },
   "file_extension": ".py",
   "mimetype": "text/x-python",
   "name": "python",
   "nbconvert_exporter": "python",
   "pygments_lexer": "ipython3",
   "version": "3.9.6"
  }
 },
 "nbformat": 4,
 "nbformat_minor": 5
}
